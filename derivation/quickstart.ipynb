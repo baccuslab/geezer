{
 "cells": [
  {
   "cell_type": "markdown",
   "id": "0301e970-6642-4f55-b676-9ab2b8abb8d2",
   "metadata": {},
   "source": [
    "# Geezer Quickstart "
   ]
  },
  {
   "cell_type": "code",
   "execution_count": 86,
   "id": "d8f2a40f-89d4-4e3d-bb93-4c7a8315e3b4",
   "metadata": {},
   "outputs": [
    {
     "name": "stdout",
     "output_type": "stream",
     "text": [
      "The autoreload extension is already loaded. To reload it, use:\n",
      "  %reload_ext autoreload\n"
     ]
    }
   ],
   "source": [
    "%load_ext autoreload\n",
    "%autoreload 2"
   ]
  },
  {
   "cell_type": "code",
   "execution_count": 87,
   "id": "68eefec2-b909-4a9c-8ec7-3e320b07eebd",
   "metadata": {},
   "outputs": [],
   "source": [
    "import geezer\n",
    "import matplotlib.pyplot as plt\n",
    "import numpy as np"
   ]
  },
  {
   "cell_type": "code",
   "execution_count": 175,
   "id": "1814c135-9761-4865-bb42-94622c0ac106",
   "metadata": {},
   "outputs": [],
   "source": [
    "rig = geezer.load_geometry_json('/home/melandrocyte/Code/geezer/geometries/dec_2023_geometry.json')"
   ]
  },
  {
   "cell_type": "code",
   "execution_count": 176,
   "id": "5eec8914-c0da-4be1-9cfa-09463e72cb5b",
   "metadata": {},
   "outputs": [
    {
     "name": "stdout",
     "output_type": "stream",
     "text": [
      "table {'x': [0.0, 36.0, 0.0], 'y': [0.0, 0.0, 24.0], 'z': [0.0, 0.0, 0.0]}\n",
      "left_mon {'x': [5.0, 19.0, 5.0], 'y': [4.25, 19.5, 4.25], 'z': [12.0, 12.0, 24.0]}\n",
      "right_mon {'x': [32.25, 19.0, 32.25], 'y': [3.0, 19.5, 3.0], 'z': [12.0, 12.0, 24.0]}\n",
      "headbar {'x': 18.5, 'y': 9.5, 'z': 14.5}\n",
      "nw {'x': 25.9, 'y': 10.7, 'z': 24.0}\n",
      "lens {'x': 23.0145, 'y': 15.5, 'z': 24.0}\n",
      "ne {'x': 20.97, 'y': 17.0348, 'z': 24.333}\n",
      "sw {'x': 30.449, 'y': 5.2416, 'z': 11.5}\n",
      "se {'x': 19.125, 'y': 18.5, 'z': 12.0}\n",
      "camera {'x': 26.625, 'y': 18.875, 'z': 33.0}\n"
     ]
    },
    {
     "data": {
      "text/plain": [
       "[None, None, None, None, None, None, None, None, None, None]"
      ]
     },
     "execution_count": 176,
     "metadata": {},
     "output_type": "execute_result"
    }
   ],
   "source": [
    "[print(k,v) for k,v in rig.items()]"
   ]
  },
  {
   "cell_type": "markdown",
   "id": "50e4a80a-358f-4b9c-9706-6674f1ac955b",
   "metadata": {},
   "source": [
    "### Let's focus on the `se` led"
   ]
  },
  {
   "cell_type": "code",
   "execution_count": 121,
   "id": "811b84fd-32ed-4eb7-93dc-192301cb6e60",
   "metadata": {},
   "outputs": [],
   "source": [
    "se = [rig['se']['x'], rig['se']['y'], rig['se']['z']]\n",
    "sw = [rig['sw']['x'], rig['sw']['y'], rig['sw']['z']]\n",
    "cam = [rig['lens']['x'], rig['lens']['y'], rig['lens']['z']]\n",
    "pupil = [rig['headbar']['x'], rig['headbar']['y'], rig['headbar']['z']]"
   ]
  },
  {
   "cell_type": "code",
   "execution_count": 122,
   "id": "342621a6-9b81-4567-90f3-68d62e1dfad5",
   "metadata": {},
   "outputs": [
    {
     "name": "stdout",
     "output_type": "stream",
     "text": [
      "[23.0145, 15.5, 24.0]\n"
     ]
    }
   ],
   "source": [
    "print(cam)"
   ]
  },
  {
   "cell_type": "code",
   "execution_count": 123,
   "id": "26ea9e18-f26d-4120-8858-f7ea7a8cd902",
   "metadata": {},
   "outputs": [
    {
     "data": {
      "text/plain": [
       "17.436116154694545"
      ]
     },
     "execution_count": 123,
     "metadata": {},
     "output_type": "execute_result"
    }
   ],
   "source": [
    "x = sw[0]-se[0]\n",
    "y = sw[1]-se[1]\n",
    "\n",
    "np.sqrt(x**2+y**2)"
   ]
  },
  {
   "cell_type": "code",
   "execution_count": 124,
   "id": "9932923d-fcfe-4ccb-8661-55adb10d1216",
   "metadata": {},
   "outputs": [
    {
     "name": "stdout",
     "output_type": "stream",
     "text": [
      "[18.5, 9.5, 14.5]\n",
      "[19.125, 18.5, 12.0]\n"
     ]
    }
   ],
   "source": [
    "print(pupil)\n",
    "print(se)"
   ]
  },
  {
   "cell_type": "code",
   "execution_count": 125,
   "id": "1525ff5a-9ec6-4c08-b7d8-d9017e741be6",
   "metadata": {},
   "outputs": [],
   "source": [
    "mapping = {'led':\n",
    "        {'ne': 'ne',\n",
    "         'se': 'se',\n",
    "         'sw': 'sw'},\n",
    "        'camera': {'cam': 'lens'},\n",
    "        'pupil': 'headbar'}"
   ]
  },
  {
   "cell_type": "code",
   "execution_count": 126,
   "id": "6702b5e2-65a5-4a01-b6d7-bfb428b624ed",
   "metadata": {},
   "outputs": [],
   "source": [
    "centered = geezer.get_centered_geometry(rig, mapping)"
   ]
  },
  {
   "cell_type": "code",
   "execution_count": 127,
   "id": "694b57da-1bfd-4d8b-89f3-67500b3d29af",
   "metadata": {},
   "outputs": [],
   "source": [
    "basis = geezer.get_basis(centered['camera'])"
   ]
  },
  {
   "cell_type": "code",
   "execution_count": 117,
   "id": "e81da3a6-fedd-44b0-a5fc-d5191aaaced6",
   "metadata": {},
   "outputs": [
    {
     "name": "stdout",
     "output_type": "stream",
     "text": [
      "-1.0055961507588338\n",
      "-11.110546227625996\n",
      "yo\n"
     ]
    }
   ],
   "source": [
    "out = geezer.get_led_angle(centered['leds']['ne'], basis)\n",
    "[print(np.rad2deg(zo)) for zo in out]\n",
    "print('yo')"
   ]
  },
  {
   "cell_type": "code",
   "execution_count": null,
   "id": "88ec44d4-68a6-4a3c-adfa-deb28fb44b2c",
   "metadata": {},
   "outputs": [],
   "source": []
  },
  {
   "cell_type": "code",
   "execution_count": 129,
   "id": "216feaed-a3ee-4be1-b661-9490212ed102",
   "metadata": {},
   "outputs": [
    {
     "name": "stdout",
     "output_type": "stream",
     "text": [
      "-53.10749253031738\n",
      "60.923927705092886\n",
      "yo\n"
     ]
    }
   ],
   "source": [
    "out = geezer.get_led_angle(centered['leds']['se'], basis)\n",
    "[print(np.rad2deg(zo)) for zo in out]\n",
    "print('yo')"
   ]
  },
  {
   "cell_type": "code",
   "execution_count": null,
   "id": "b39ccd8b-44a1-4a24-914c-54d78e961897",
   "metadata": {},
   "outputs": [],
   "source": []
  },
  {
   "cell_type": "code",
   "execution_count": null,
   "id": "037e5158-87e4-4d27-8b64-2be30c555415",
   "metadata": {},
   "outputs": [],
   "source": []
  },
  {
   "cell_type": "code",
   "execution_count": 161,
   "id": "aa3784cd-1927-41b2-8444-d271b6541113",
   "metadata": {},
   "outputs": [
    {
     "data": {
      "text/plain": [
       "(-1.0, 1.0)"
      ]
     },
     "execution_count": 161,
     "metadata": {},
     "output_type": "execute_result"
    },
    {
     "data": {
      "image/png": "[encoded data removed]",
      "text/plain": [
       "<Figure size 640x480 with 1 Axes>"
      ]
     },
     "metadata": {},
     "output_type": "display_data"
    }
   ],
   "source": [
    "ax = plt.axes(projection='3d')\n",
    "ax.plot(*basis[0], 'ro')\n",
    "ax.plot(*basis[1], 'go')\n",
    "ax.plot(*basis[2], 'co')\n",
    "ax.plot(0,0,0,'ko')\n",
    "plt.xlim(-1,1)\n",
    "plt.ylim(-1,1)\n"
   ]
  },
  {
   "cell_type": "code",
   "execution_count": 163,
   "id": "2bab96b3-131c-461f-b4bd-eac2573c09be",
   "metadata": {},
   "outputs": [
    {
     "name": "stdout",
     "output_type": "stream",
     "text": [
      "The autoreload extension is already loaded. To reload it, use:\n",
      "  %reload_ext autoreload\n",
      "[-12.0244, -4.804, 11.411]\n",
      "[-4.664 -3.776  0.   ] [ 37.76     -46.64      36.011072] [-3.776  4.664 10.   ]\n",
      "-60.78215864917102\n",
      "-69.49690441435142\n",
      "yo\n",
      "{'observer': array([0., 0., 0.]), 'camera': array([-3.776,  4.664, 10.   ]), 'leds': {'ne': array([-2.19  ,  6.4855, 10.275 ]), 'se': array([-1.356,  7.44 , -2.4  ]), 'sw': array([-12.0244,  -4.804 ,  -2.964 ])}}\n",
      "-21.235576261001402\n",
      "-87.36368910134253\n",
      "yo\n",
      "The autoreload extension is already loaded. To reload it, use:\n",
      "  %reload_ext autoreload\n",
      "[30.449, 5.2416, 11.5]\n",
      "{'observer': array([0., 0., 0.]), 'camera': array([4.5145, 6.    , 9.5   ]), 'leds': {'ne': array([2.47  , 7.5348, 9.833 ]), 'se': array([ 0.625,  9.   , -2.5  ]), 'sw': array([11.949 , -4.2584, -3.    ])}}\n",
      "[-6.      4.5145  0.    ] [-42.88775    -57.          56.38071025] [4.5145 6.     9.5   ]\n",
      "[[-0.79907212 -0.47168875  0.37281827]\n",
      " [ 0.60123518 -0.62689833  0.49549444]\n",
      " [ 0.          0.62008725  0.78453286]]\n",
      "-53.10749253031738\n",
      "60.923927705092886\n",
      "yo\n",
      "-21.734154261496307\n",
      "89.95832832353751\n",
      "yo\n"
     ]
    }
   ],
   "source": [
    "%load_ext autoreload\n",
    "%autoreload 2\n",
    "\n",
    "import geezer\n",
    "import matplotlib.pyplot as plt\n",
    "import numpy as np\n",
    "\n",
    "rig = geezer.load_geometry_json('/home/melandrocyte/Code/geezer/geometries/jan_2024_geometry.json')\n",
    "\n",
    "\n",
    "\n",
    "\n",
    "\n",
    "### Let's focus on the `se` led\n",
    "\n",
    "se = [rig['se']['x'], rig['se']['y'], rig['se']['z']]\n",
    "sw = [rig['sw']['x'], rig['sw']['y'], rig['sw']['z']]\n",
    "cam = [rig['lens']['x'], rig['lens']['y'], rig['lens']['z']]\n",
    "print(sw)\n",
    "\n",
    "\n",
    "x = sw[0]-se[0]\n",
    "y = sw[1]-se[1]\n",
    "\n",
    "np.sqrt(x**2+y**2)\n",
    "\n",
    "\n",
    "mapping = {'led':\n",
    "        {'ne': 'ne',\n",
    "         'se': 'se',\n",
    "         'sw': 'sw'},\n",
    "        'camera': {'cam': 'lens'},\n",
    "        'pupil': 'headbar'}\n",
    "\n",
    "centered = geezer.get_centered_geometry(rig, mapping)\n",
    "\n",
    "basis = geezer.get_basis(centered['camera'])\n",
    "\n",
    "out = geezer.get_led_angle(centered['leds']['se'], basis)\n",
    "[print(np.rad2deg(zo)) for zo in out]\n",
    "print('yo')\n",
    "\n",
    "print(centered)\n",
    "\n",
    "\n",
    "out = geezer.get_led_angle(centered['leds']['sw'], basis)\n",
    "[print(np.rad2deg(zo)) for zo in out]\n",
    "print('yo')\n",
    "\n",
    "\n",
    "%load_ext autoreload\n",
    "%autoreload 2\n",
    "\n",
    "import geezer\n",
    "import matplotlib.pyplot as plt\n",
    "import numpy as np\n",
    "\n",
    "rig = geezer.load_geometry_json('/home/melandrocyte/Code/geezer/geometries/july_2023_geometry.json')\n",
    "\n",
    "\n",
    "\n",
    "\n",
    "\n",
    "### Let's focus on the `se` led\n",
    "\n",
    "se = [rig['se']['x'], rig['se']['y'], rig['se']['z']]\n",
    "sw = [rig['sw']['x'], rig['sw']['y'], rig['sw']['z']]\n",
    "cam = [rig['lens']['x'], rig['lens']['y'], rig['lens']['z']]\n",
    "\n",
    "print(sw)\n",
    "\n",
    "\n",
    "x = sw[0]-se[0]\n",
    "y = sw[1]-se[1]\n",
    "\n",
    "np.sqrt(x**2+y**2)\n",
    "\n",
    "\n",
    "mapping = {'led':\n",
    "        {'ne': 'ne',\n",
    "         'se': 'se',\n",
    "         'sw': 'sw'},\n",
    "        'camera': {'cam': 'lens'},\n",
    "        'pupil': 'headbar'}\n",
    "\n",
    "centered = geezer.get_centered_geometry(rig, mapping)\n",
    "print(centered)\n",
    "basis = geezer.get_basis(centered['camera'])\n",
    "print(basis)\n",
    "out = geezer.get_led_angle(centered['leds']['se'], basis)\n",
    "[print(np.rad2deg(zo)) for zo in out]\n",
    "print('yo')\n",
    "\n",
    "\n",
    "out = geezer.get_led_angle(centered['leds']['sw'], basis)\n",
    "[print(np.rad2deg(zo)) for zo in out]\n",
    "print('yo')\n",
    "\n"
   ]
  },
  {
   "cell_type": "code",
   "execution_count": 140,
   "id": "84b94550-adae-4649-810a-d04d6a752ceb",
   "metadata": {},
   "outputs": [
    {
     "data": {
      "text/plain": [
       "{'observer': array([0., 0., 0.]),\n",
       " 'camera': array([4.5145, 6.    , 9.5   ]),\n",
       " 'leds': {'ne': array([2.47  , 7.5348, 9.833 ]),\n",
       "  'se': array([ 0.625,  9.   , -2.5  ]),\n",
       "  'sw': array([11.949 , -4.2584, -3.    ])}}"
      ]
     },
     "execution_count": 140,
     "metadata": {},
     "output_type": "execute_result"
    }
   ],
   "source": [
    "centered"
   ]
  },
  {
   "cell_type": "code",
   "execution_count": 144,
   "id": "f64e61e9-baf4-43ab-afb9-14a57ff55424",
   "metadata": {},
   "outputs": [],
   "source": [
    "jan_geometry = geezer.load_geometry_json('/home/melandrocyte/Code/geezer/geometries/jan_2024_geometry.json')\n",
    "july_geometry = geezer.load_geometry_json('/home/melandrocyte/Code/geezer/geometries/july_2023_geometry.json')"
   ]
  },
  {
   "cell_type": "code",
   "execution_count": 147,
   "id": "9006a00d-b29c-49c0-83ab-713503e84a79",
   "metadata": {},
   "outputs": [],
   "source": [
    "jan_centered = geezer.get_centered_geometry(jan_geometry, mapping)"
   ]
  },
  {
   "cell_type": "code",
   "execution_count": 153,
   "id": "6f0cffa8-eea9-454c-baa8-423b95c8de7d",
   "metadata": {},
   "outputs": [],
   "source": [
    "july_centered = geezer.get_centered_geometry(july_geometry, mapping)"
   ]
  },
  {
   "cell_type": "code",
   "execution_count": 154,
   "id": "3bb61ebf-20f1-4db0-9d50-f85f34f618d8",
   "metadata": {},
   "outputs": [
    {
     "name": "stdout",
     "output_type": "stream",
     "text": [
      "observer [0. 0. 0.]\n",
      "camera [-3.776  4.664 10.   ]\n",
      "leds {'ne': array([-2.19  ,  6.4855, 10.275 ]), 'se': array([-1.356,  7.44 , -2.4  ]), 'sw': array([-12.0244,  -4.804 ,  -2.964 ])}\n"
     ]
    },
    {
     "data": {
      "text/plain": [
       "[None, None, None]"
      ]
     },
     "execution_count": 154,
     "metadata": {},
     "output_type": "execute_result"
    }
   ],
   "source": [
    "[print(k,v) for k,v in jan_centered.items()]"
   ]
  },
  {
   "cell_type": "code",
   "execution_count": 155,
   "id": "1271aa01-0442-4682-acfa-1f97e1c83c0a",
   "metadata": {},
   "outputs": [
    {
     "name": "stdout",
     "output_type": "stream",
     "text": [
      "table {'x': [0.0, 36.0, 0.0], 'y': [0.0, 0.0, 24.0], 'z': [0.0, 0.0, 0.0]}\n",
      "left_mon {'x': [5.0, 19.0, 5.0], 'y': [4.25, 19.5, 4.25], 'z': [12.0, 12.0, 24.0]}\n",
      "right_mon {'x': [32.25, 19.0, 32.25], 'y': [3.0, 19.5, 3.0], 'z': [12.0, 12.0, 24.0]}\n",
      "headbar {'x': 18.5, 'y': 9.5, 'z': 14.5}\n",
      "nw {'x': 25.9, 'y': 10.7, 'z': 24.0}\n",
      "lens {'x': 23.0145, 'y': 15.5, 'z': 24.0}\n",
      "ne {'x': 20.97, 'y': 17.0348, 'z': 24.333}\n",
      "sw {'x': 30.449, 'y': 5.2416, 'z': 11.5}\n",
      "se {'x': 19.125, 'y': 18.5, 'z': 12.0}\n",
      "camera {'x': 26.625, 'y': 18.875, 'z': 33.0}\n"
     ]
    },
    {
     "data": {
      "text/plain": [
       "[None, None, None, None, None, None, None, None, None, None]"
      ]
     },
     "execution_count": 155,
     "metadata": {},
     "output_type": "execute_result"
    }
   ],
   "source": [
    "[print(k,v) for k,v in july_geometry.items()]"
   ]
  },
  {
   "cell_type": "code",
   "execution_count": null,
   "id": "085a6e3f-af9a-4a6a-9d95-f5a179468249",
   "metadata": {},
   "outputs": [],
   "source": []
  }
 ],
 "metadata": {
  "kernelspec": {
   "display_name": "Python 3 (ipykernel)",
   "language": "python",
   "name": "python3"
  },
  "language_info": {
   "codemirror_mode": {
    "name": "ipython",
    "version": 3
   },
   "file_extension": ".py",
   "mimetype": "text/x-python",
   "name": "python",
   "nbconvert_exporter": "python",
   "pygments_lexer": "ipython3",
   "version": "3.11.7"
  }
 },
 "nbformat": 4,
 "nbformat_minor": 5
}
