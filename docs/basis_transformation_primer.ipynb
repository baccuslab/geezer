{
 "cells": [
  {
   "cell_type": "markdown",
   "id": "53c6acc2-31aa-415e-9b9d-a407c19a65da",
   "metadata": {},
   "source": [
    "This is designed to illustrate the key aspects of basis-transformations necessary for the geezer algorithm, and to demonstrate how those operations are implemented in numpy. The need for this is motivated by the trickery of numpy's ordering between basis-vector and coordinate index (i.e. a change-of-basis from 3d-space to 3d-space is a 3x3 grid: what are rows? what are columns? Follow this guide to see!) Adapted from [this fantastic episode of 3Blue1Brown on basis transformations](https://www.youtube.com/watch?v=P2LTAUO1TdA&t=129s)"
   ]
  },
  {
   "cell_type": "code",
   "execution_count": 7,
   "id": "96c39ea8-6e03-4ae5-a325-9d9293660d0d",
   "metadata": {},
   "outputs": [],
   "source": [
    "import numpy as np"
   ]
  },
  {
   "cell_type": "markdown",
   "id": "9babdb5d-df54-4106-987c-3d5045fafca2",
   "metadata": {},
   "source": [
    "# Case Study 1"
   ]
  },
  {
   "cell_type": "markdown",
   "id": "e31d12d1-2f56-4985-9697-dbad2cfa0076",
   "metadata": {},
   "source": [
    "### You have: \n",
    "- Basis vectors for alternate basis\n",
    "### You are given:\n",
    "- Coordinate in alternate basis\n",
    "### You want:\n",
    "- Same coordinate in original basis"
   ]
  },
  {
   "cell_type": "code",
   "execution_count": 99,
   "id": "4147653e-5216-4c59-a99e-63bbc2fcdecd",
   "metadata": {},
   "outputs": [],
   "source": [
    "class A:\n",
    "    i = np.array([1,0])\n",
    "    j = np.array([0,1])\n",
    "\n",
    "class B:\n",
    "    i = np.array([2,1])\n",
    "    j = np.array([-1,1])\n",
    "    "
   ]
  },
  {
   "cell_type": "code",
   "execution_count": 127,
   "id": "43452143-6097-41c9-a3ae-3d6ede84deb4",
   "metadata": {},
   "outputs": [
    {
     "data": {
      "image/png": "[encoded data removed]",
      "text/plain": [
       "<Figure size 640x480 with 1 Axes>"
      ]
     },
     "metadata": {},
     "output_type": "display_data"
    }
   ],
   "source": [
    "import matplotlib.pyplot as plt\n",
    "plt.plot\n",
    "plt.plot([0,A.i[0]],[0,A.i[1]],'r', label='$\\hat{i_A}=(1,0) $')\n",
    "plt.plot([0,A.j[0]],[0,A.j[1]],'k', label='$\\hat{k_A}=0,1) $')\n",
    "\n",
    "plt.plot([0,B.i[0]],[0,B.i[1]],'r', label='$\\hat{i_B}=(1,0) $', alpha=0.2, ls='--')\n",
    "plt.plot([0,B.j[0]],[0,B.j[1]],'k', label='$\\hat{k_B}=0,1) $', alpha=0.3, ls='--')\n",
    "plt.xlim(-4,4)\n",
    "plt.ylim(-4,4)\n",
    "plt.legend()\n",
    "plt.gca().set_aspect('equal')\n",
    "\n"
   ]
  },
  {
   "cell_type": "markdown",
   "id": "c906b23b-28ad-4f8f-9380-ccaba664af18",
   "metadata": {},
   "source": [
    "We are given the point $(-1, 2)$ in basis B"
   ]
  },
  {
   "cell_type": "code",
   "execution_count": 147,
   "id": "f53c533a-1e45-41d0-b175-297e252776f3",
   "metadata": {},
   "outputs": [
    {
     "data": {
      "text/plain": [
       "array([-4,  1])"
      ]
     },
     "execution_count": 147,
     "metadata": {},
     "output_type": "execute_result"
    }
   ],
   "source": [
    "np.array([-1,2]) @ np.array([B.i, B.j])"
   ]
  },
  {
   "cell_type": "markdown",
   "id": "817eb5b3-6cb4-473f-adb1-79ab07663423",
   "metadata": {},
   "source": [
    "B's coordinates, in our language. But B_i,j is B in terms of A"
   ]
  },
  {
   "cell_type": "markdown",
   "id": "0787a1d9-38a7-407a-83be-309784807ebf",
   "metadata": {},
   "source": [
    "# Case Study 2"
   ]
  },
  {
   "cell_type": "code",
   "execution_count": 161,
   "id": "70836cb3-c0c4-40ef-9f4a-4f7647f65fc9",
   "metadata": {},
   "outputs": [],
   "source": [
    "mtx = np.array([B.i, B.j])\n",
    "inv_mtx = np.linalg.inv(mtx)"
   ]
  },
  {
   "cell_type": "code",
   "execution_count": 162,
   "id": "c5b4895a-314d-4d76-8b3a-a94e6eb99e0f",
   "metadata": {},
   "outputs": [
    {
     "data": {
      "text/plain": [
       "array([1.66666667, 0.33333333])"
      ]
     },
     "execution_count": 162,
     "metadata": {},
     "output_type": "execute_result"
    }
   ],
   "source": [
    "np.array([3,2]) @ inv_mtx "
   ]
  },
  {
   "cell_type": "markdown",
   "id": "3a0d32f7-c516-4dac-8cf1-6f94bcedfcaa",
   "metadata": {},
   "source": [
    "3/2 in B, written in our coordinates"
   ]
  },
  {
   "cell_type": "code",
   "execution_count": null,
   "id": "58fa3250-7d41-4511-9715-5fd3315ba786",
   "metadata": {},
   "outputs": [],
   "source": []
  }
 ],
 "metadata": {
  "kernelspec": {
   "display_name": "Python 3 (ipykernel)",
   "language": "python",
   "name": "python3"
  },
  "language_info": {
   "codemirror_mode": {
    "name": "ipython",
    "version": 3
   },
   "file_extension": ".py",
   "mimetype": "text/x-python",
   "name": "python",
   "nbconvert_exporter": "python",
   "pygments_lexer": "ipython3",
   "version": "3.11.7"
  }
 },
 "nbformat": 4,
 "nbformat_minor": 5
}
